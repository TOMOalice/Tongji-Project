{
 "cells": [
  {
   "cell_type": "code",
   "execution_count": 2,
   "metadata": {},
   "outputs": [],
   "source": [
    "import pandas as pd\n",
    "import requests\n",
    "import json"
   ]
  },
  {
   "cell_type": "code",
   "execution_count": 3,
   "metadata": {},
   "outputs": [],
   "source": [
    "import zqy"
   ]
  },
  {
   "cell_type": "code",
   "execution_count": 4,
   "metadata": {},
   "outputs": [],
   "source": [
    "from zqy import coord"
   ]
  },
  {
   "cell_type": "code",
   "execution_count": 7,
   "metadata": {},
   "outputs": [],
   "source": [
    "path = r\"H:\\佳佳研究生\\09课程作业\\城市规划理论\\python\\公司1.xlsx\"\n",
    "pathout = r\"H:\\佳佳研究生\\09课程作业\\城市规划理论\\python\\公司1.csv\"\n",
    "df = pd.read_excel(path)\n",
    "lname = df['address'].tolist()"
   ]
  },
  {
   "cell_type": "code",
   "execution_count": 16,
   "metadata": {},
   "outputs": [
    {
     "name": "stdout",
     "output_type": "stream",
     "text": [
      "121.63104502529808\n",
      "121.44390947855604\n",
      "121.58262578817447\n",
      "121.43708058557011\n",
      "121.43349772326906\n",
      "121.44246199984751\n",
      "121.39940346930422\n",
      "121.45956788322039\n",
      "121.47515315658435\n",
      "121.46585238440225\n",
      "121.45390503027579\n",
      "121.44892468215583\n",
      "121.43893561626619\n",
      "121.45050251063599\n",
      "121.44563070992317\n",
      "121.43592888161444\n",
      "121.44892468215583\n",
      "121.44892468215583\n",
      "121.353108695881\n",
      "121.52046653836062\n",
      "121.43763396316615\n",
      "121.40686995490302\n",
      "121.39474743767065\n",
      "121.39558814969956\n",
      "121.40938429571797\n",
      "121.37559713695548\n",
      "121.41250633369792\n",
      "121.52358860667978\n",
      "121.50036594708232\n",
      "121.456118553007\n",
      "121.5089951991283\n",
      "121.5089951991283\n",
      "121.50311020104634\n",
      "121.50062019635664\n",
      "121.50409274498264\n",
      "121.43208011513438\n",
      "121.40185696466179\n",
      "121.48325407274977\n",
      "121.50316613107037\n",
      "121.29376648475402\n",
      "121.45012713220876\n",
      "121.56007473488256\n",
      "121.46881681795121\n",
      "121.42247167715777\n",
      "121.38751684506103\n",
      "121.34692867285527\n",
      "121.49223705273285\n"
     ]
    }
   ],
   "source": [
    "for address in lname :\n",
    "        url = 'http://restapi.amap.com/v3/geocode/geo?key=bcb4190e817908e737edafed0c8742b6&address=%s&city=上海' % address\n",
    "        data = requests.get(url)\n",
    "        data = json.loads(data.text)\n",
    "        try:\n",
    "            location = data['geocodes'][0]['location']\n",
    "            lng, lat = location.split(',')\n",
    "            lng,lat = coord. gcj02_to_wgs84(float(lng), float(lat))\n",
    "            print(lng)\n",
    "        except:\n",
    "            print('error')"
   ]
  },
  {
   "cell_type": "code",
   "execution_count": 17,
   "metadata": {},
   "outputs": [
    {
     "name": "stdout",
     "output_type": "stream",
     "text": [
      "31.225902378627243\n",
      "31.28537695500472\n",
      "31.20364072597473\n",
      "31.28290834036938\n",
      "31.188423724627352\n",
      "31.21724537208418\n",
      "31.165618907007012\n",
      "31.233905506823024\n",
      "31.22789490934673\n",
      "31.23119488136663\n",
      "31.217693493010177\n",
      "31.229745689448173\n",
      "31.235185431671507\n",
      "31.233028611328862\n",
      "31.226460309869836\n",
      "31.194887458587015\n",
      "31.229745689448173\n",
      "31.229745689448173\n",
      "31.221903723505392\n",
      "31.241903060300963\n",
      "31.187898841457443\n",
      "31.17439519100396\n",
      "31.166888385476927\n",
      "31.306608572952417\n",
      "31.175351869214445\n",
      "31.235088136887917\n",
      "31.17764754560143\n",
      "31.19693683466819\n",
      "31.28074899923283\n",
      "31.237357525158192\n",
      "31.192466941840564\n",
      "31.192466941840564\n",
      "31.287888244056223\n",
      "31.288607527718753\n",
      "31.311238928478442\n",
      "31.234429437280692\n",
      "31.222096274268843\n",
      "31.369408433712213\n",
      "31.267436966413257\n",
      "31.195898397481017\n",
      "31.225973063414425\n",
      "31.214802149745406\n",
      "31.18509009067135\n",
      "31.169122710904674\n",
      "31.223230617189614\n",
      "31.221910872271472\n",
      "31.24084701114815\n"
     ]
    }
   ],
   "source": [
    "for address in lname :\n",
    "        url = 'http://restapi.amap.com/v3/geocode/geo?key=bcb4190e817908e737edafed0c8742b6&address=%s&city=上海' % address\n",
    "        data = requests.get(url)\n",
    "        data = json.loads(data.text)\n",
    "        try:\n",
    "            location = data['geocodes'][0]['location']\n",
    "            lng, lat = location.split(',')\n",
    "            lng,lat = coord. gcj02_to_wgs84(float(lng), float(lat))\n",
    "            print(lat)\n",
    "        except:\n",
    "            print('error')"
   ]
  },
  {
   "cell_type": "code",
   "execution_count": null,
   "metadata": {},
   "outputs": [],
   "source": []
  }
 ],
 "metadata": {
  "kernelspec": {
   "display_name": "Python 3",
   "language": "python",
   "name": "python3"
  },
  "language_info": {
   "codemirror_mode": {
    "name": "ipython",
    "version": 3
   },
   "file_extension": ".py",
   "mimetype": "text/x-python",
   "name": "python",
   "nbconvert_exporter": "python",
   "pygments_lexer": "ipython3",
   "version": "3.6.3"
  }
 },
 "nbformat": 4,
 "nbformat_minor": 2
}
